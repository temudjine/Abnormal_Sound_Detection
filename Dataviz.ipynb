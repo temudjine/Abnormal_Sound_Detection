{
 "cells": [
  {
   "cell_type": "markdown",
   "metadata": {},
   "source": [
    "# Import template "
   ]
  },
  {
   "cell_type": "code",
   "execution_count": 1,
   "metadata": {},
   "outputs": [],
   "source": [
    "%run Template.ipynb"
   ]
  },
  {
   "cell_type": "code",
   "execution_count": null,
   "metadata": {},
   "outputs": [],
   "source": [
    "isCollab = False\r\n",
    "pathLogMel = \"npy/\"\r\n",
    "pathDriveSaveFile = \"models_save/\"\r\n",
    "\r\n",
    "if isCollab:\r\n",
    "    pathLogMel = \"/content/drive/MyDrive/Datascience projet son/LogMel/\"\r\n",
    "    pathDriveSaveFile = \"/content/drive/MyDrive/Datascience projet son/You/Auto_save_AE_\""
   ]
  },
  {
   "cell_type": "code",
   "execution_count": null,
   "metadata": {},
   "outputs": [],
   "source": [
    "df.head()"
   ]
  },
  {
   "cell_type": "markdown",
   "metadata": {
    "id": "gZl0DQMOQFhR"
   },
   "source": [
    "# DataViz"
   ]
  },
  {
   "cell_type": "code",
   "execution_count": null,
   "metadata": {},
   "outputs": [],
   "source": [
    "nb_sample = len(df)\r\n",
    "nb_sample_machine = df['Machine'].value_counts()\r\n",
    "nb_sample_train_test = df.groupby(by=['Machine'])['train_test'].value_counts()\r\n",
    "nb_normal = len(df[df['son_type']=='normal'])\r\n",
    "nb_anormal = len(df[df['son_type']=='anomaly'])\r\n",
    "\r\n",
    "print('Nombre total de sample :')\r\n",
    "print(nb_sample)\r\n",
    "print()\r\n",
    "print('Nombre total de sample normal:')\r\n",
    "print(nb_normal)\r\n",
    "print(nb_normal/nb_sample)\r\n",
    "print()\r\n",
    "print('Nombre total de sample anormal:')\r\n",
    "print(nb_anormal)\r\n",
    "print(nb_anormal/nb_sample)\r\n",
    "print()\r\n",
    "print('Nombre total de sample par Machine :')\r\n",
    "print(nb_sample_machine)\r\n",
    "print()\r\n",
    "print('Nombre total de sample test/train par Machine :')\r\n",
    "print(nb_sample_train_test)"
   ]
  },
  {
   "cell_type": "code",
   "execution_count": null,
   "metadata": {},
   "outputs": [],
   "source": [
    "plt.figure(figsize=(17,13));\r\n",
    "\r\n",
    "plt.subplot(221);\r\n",
    "plt.title('Proportion normal/anormal');\r\n",
    "sns.countplot(x=\"son_type\",data=df, palette=\"husl\");\r\n",
    "plt.xlabel('');\r\n",
    "plt.ylabel('file number');\r\n",
    "\r\n",
    "plt.subplot(222);\r\n",
    "plt.title('Proportion Machine');\r\n",
    "sns.countplot(x=\"Machine\",data=df, palette=\"husl\");\r\n",
    "plt.xlabel('');\r\n",
    "plt.ylabel('file number');\r\n",
    "\r\n",
    "plt.subplot(223);\r\n",
    "plt.title('Proportion Machine');\r\n",
    "sns.countplot(x=\"Machine\",hue='son_type',data=df, palette=\"husl\");\r\n",
    "plt.xlabel('');\r\n",
    "plt.ylabel('file number');\r\n",
    "\r\n",
    "plt.subplot(224);\r\n",
    "plt.title('Proportion IDs');\r\n",
    "sns.countplot(x=data.Machine, hue=data.Machine_ID.sort_values(), palette=\"husl\");\r\n",
    "plt.xlabel('');\r\n",
    "plt.ylabel('file number'); \r\n",
    "# attention on ne voit pas bien avec les couleurs mais ToyConveyor a seulement 3 ID tandis que les autres en ont 4\r\n",
    "plt.savefig('/content/drive/MyDrive/Datascience projet son/Fichiers_output_Projet/DataViz.png')\r\n"
   ]
  },
  {
   "cell_type": "code",
   "execution_count": null,
   "metadata": {},
   "outputs": [],
   "source": [
    "lecture(df['URL'][0])"
   ]
  },
  {
   "cell_type": "code",
   "execution_count": null,
   "metadata": {},
   "outputs": [],
   "source": [
    "plot_audio(df['URL'][0])"
   ]
  },
  {
   "cell_type": "code",
   "execution_count": null,
   "metadata": {},
   "outputs": [],
   "source": [
    "duration(df['URL'][0])"
   ]
  }
 ],
 "metadata": {
  "interpreter": {
   "hash": "43b8236f04461461bd746e1ddc15668358a72929eb385ddd783b91044571bf54"
  },
  "kernelspec": {
   "display_name": "Python 3.8.8 64-bit ('Exam': conda)",
   "name": "python3"
  },
  "language_info": {
   "name": "python",
   "version": ""
  },
  "orig_nbformat": 3
 },
 "nbformat": 4,
 "nbformat_minor": 2
}