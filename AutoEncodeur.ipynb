{
 "cells": [
  {
   "cell_type": "markdown",
   "metadata": {},
   "source": [
    "# Preliminary Work"
   ]
  },
  {
   "cell_type": "code",
   "execution_count": null,
   "metadata": {},
   "outputs": [],
   "source": [
    "%run Template.ipynb"
   ]
  },
  {
   "cell_type": "code",
   "execution_count": 16,
   "metadata": {},
   "outputs": [],
   "source": [
    "def load_audio(audio_path):\n",
    "    return librosa.load(audio_path, sr=None)\n",
    "\n",
    "def logMelSpectrogram(audio, fe, dt):\n",
    "    # Spectrogram\n",
    "    stfts = np.abs(librosa.stft(audio,\n",
    "                        n_fft = int(dt*fe),\n",
    "                        hop_length = int(dt*fe),\n",
    "                        center = True\n",
    "                        )).T\n",
    "    num_spectrogram_bins = stfts.shape[-1]\n",
    "    # MEL filter\n",
    "    linear_to_mel_weight_matrix = librosa.filters.mel(\n",
    "                                sr=fe,\n",
    "                                n_fft=int(dt*fe) + 1,\n",
    "                                n_mels=num_spectrogram_bins,\n",
    "                    ).T\n",
    "\n",
    "    # Apply the filter to the spectrogram\n",
    "    mel_spectrograms = np.tensordot(\n",
    "                stfts,\n",
    "                linear_to_mel_weight_matrix,\n",
    "                1\n",
    "            )\n",
    "    return np.log(mel_spectrograms + 1e-6)\n",
    "\n",
    "def load_data(audio_path, dt=0.02, T_max=10):\n",
    "    X_audio=[]\n",
    "    for i, a_path in enumerate(audio_path) :\n",
    "        # Load the audio file\n",
    "        data, fe = load_audio(a_path)\n",
    "            \n",
    "        # For the audio > T_max : Use just the fist T_max seconde, to have the right shape. \n",
    "        if len(data)>= T_max*fe:\n",
    "            data = data[:int(T_max*fe)]\n",
    "        \n",
    "        # For the audio < T_max : Add in the signal a zeros vector, to have the right shape.\n",
    "        else :\n",
    "            data = np.concatenate([data, np.zeros(int(T_max*fe - len(data)))])\n",
    "            \n",
    "        # Apply the logMelSpectrogram function.    \n",
    "        spectre_audio = logMelSpectrogram(data, fe, dt)\n",
    "        X_audio.append(spectre_audio)\n",
    "    return np.array(X_audio)"
   ]
  },
  {
   "cell_type": "code",
   "execution_count": 3,
   "metadata": {},
   "outputs": [
    {
     "name": "stderr",
     "output_type": "stream",
     "text": [
      "<ipython-input-3-69a16a076d51>:5: UserWarning: Boolean Series key will be reindexed to match DataFrame index.\n",
      "  df_fan_test = df_fan[df['train_test'] == 'train'] # sélection du dataset train\n",
      "<ipython-input-3-69a16a076d51>:6: SettingWithCopyWarning: \n",
      "A value is trying to be set on a copy of a slice from a DataFrame.\n",
      "Try using .loc[row_indexer,col_indexer] = value instead\n",
      "\n",
      "See the caveats in the documentation: https://pandas.pydata.org/pandas-docs/stable/user_guide/indexing.html#returning-a-view-versus-a-copy\n",
      "  df_fan_test['Machine_ID'] = df_fan_test['Machine_ID'].replace(to_replace = [0, 2, 4, 6], value = [0,1,2,3])\n"
     ]
    }
   ],
   "source": [
    "df = pd.read_csv('Fichiers_output_Projet/fichiers_son.csv')\n",
    "df.head()\n",
    "\n",
    "df_fan = df[ df['Machine']== 'fan' ] # sélection de la machine fan\n",
    "df_fan_test = df_fan[df['train_test'] == 'train'] # sélection du dataset train\n",
    "df_fan_test['Machine_ID'] = df_fan_test['Machine_ID'].replace(to_replace = [0, 2, 4, 6], value = [0,1,2,3])\n",
    "\n",
    "\n",
    "X = df_fan_test['URL']\n",
    "y = df_fan_test['Machine_ID']\n",
    "\n",
    "\n",
    "X_train_path, X_test_path, Y_train, Y_test = train_test_split(X, y, test_size=0.2, random_state=1234, stratify=y)\n",
    "Y_train = Y_train.values\n",
    "Y_test = Y_test.values"
   ]
  },
  {
   "cell_type": "code",
   "execution_count": 4,
   "metadata": {},
   "outputs": [
    {
     "name": "stderr",
     "output_type": "stream",
     "text": [
      "/opt/anaconda3/envs/soundAnomaly/lib/python3.8/site-packages/librosa/filters.py:238: UserWarning: Empty filters detected in mel frequency basis. Some channels will produce empty responses. Try increasing your sampling rate (and fmax) or reducing n_mels.\n",
      "  warnings.warn(\n"
     ]
    }
   ],
   "source": [
    "X_train = load_data(X_train_path)\n",
    "X_test = load_data(X_test_path)"
   ]
  },
  {
   "cell_type": "code",
   "execution_count": 5,
   "metadata": {},
   "outputs": [
    {
     "data": {
      "text/plain": [
       "(501, 161)"
      ]
     },
     "execution_count": 5,
     "metadata": {},
     "output_type": "execute_result"
    }
   ],
   "source": [
    "X_train.shape[1:]"
   ]
  },
  {
   "cell_type": "code",
   "execution_count": 6,
   "metadata": {},
   "outputs": [
    {
     "data": {
      "text/plain": [
       "(2940, 501, 161)"
      ]
     },
     "execution_count": 6,
     "metadata": {},
     "output_type": "execute_result"
    }
   ],
   "source": [
    "X_train.shape"
   ]
  },
  {
   "cell_type": "code",
   "execution_count": 7,
   "metadata": {},
   "outputs": [
    {
     "data": {
      "text/plain": [
       "(735, 501, 161)"
      ]
     },
     "execution_count": 7,
     "metadata": {},
     "output_type": "execute_result"
    }
   ],
   "source": [
    "X_test.shape"
   ]
  },
  {
   "cell_type": "code",
   "execution_count": 8,
   "metadata": {},
   "outputs": [
    {
     "name": "stdout",
     "output_type": "stream",
     "text": [
      "(2940, 80661)\n",
      "(735, 80661)\n"
     ]
    }
   ],
   "source": [
    "X_train = X_train.reshape((len(X_train), np.prod(X_train.shape[1:])))\n",
    "X_test = X_test.reshape((len(X_test), np.prod(X_test.shape[1:])))\n",
    "print(X_train.shape)\n",
    "print(X_test.shape)"
   ]
  },
  {
   "cell_type": "code",
   "execution_count": 9,
   "metadata": {},
   "outputs": [
    {
     "name": "stdout",
     "output_type": "stream",
     "text": [
      "Epoch 1/10\n",
      "12/12 [==============================] - 11s 909ms/step - loss: 24.8762 - val_loss: 2.9769\n",
      "Epoch 2/10\n",
      "12/12 [==============================] - 9s 741ms/step - loss: 1.7330 - val_loss: 0.9179\n",
      "Epoch 3/10\n",
      "12/12 [==============================] - 8s 649ms/step - loss: 0.6392 - val_loss: 0.4986\n",
      "Epoch 4/10\n",
      "12/12 [==============================] - 8s 655ms/step - loss: 0.4633 - val_loss: 0.4261\n",
      "Epoch 5/10\n",
      "12/12 [==============================] - 9s 716ms/step - loss: 0.4165 - val_loss: 0.3994\n",
      "Epoch 6/10\n",
      "12/12 [==============================] - 8s 673ms/step - loss: 0.4026 - val_loss: 0.3926\n",
      "Epoch 7/10\n",
      "12/12 [==============================] - 9s 712ms/step - loss: 0.3987 - val_loss: 0.3911\n",
      "Epoch 8/10\n",
      "12/12 [==============================] - 8s 678ms/step - loss: 0.3974 - val_loss: 0.3906\n",
      "Epoch 9/10\n",
      "12/12 [==============================] - 9s 730ms/step - loss: 0.3971 - val_loss: 0.3907\n",
      "Epoch 10/10\n",
      "12/12 [==============================] - 8s 691ms/step - loss: 0.3970 - val_loss: 0.3904\n"
     ]
    }
   ],
   "source": [
    "input_img = keras.Input(shape=(80661,))\n",
    "encoded = layers.Dense(128, activation='relu')(input_img)\n",
    "encoded = layers.Dense(64, activation='relu')(encoded)\n",
    "encoded = layers.Dense(32, activation='relu')(encoded)\n",
    "\n",
    "decoded = layers.Dense(64, activation='relu')(encoded)\n",
    "decoded = layers.Dense(128, activation='relu')(decoded)\n",
    "decoded = layers.Dense(80661)(decoded)\n",
    "\n",
    "autoencoder = keras.Model(input_img, decoded)\n",
    "autoencoder.compile(optimizer='adam', loss='mse')\n",
    "\n",
    "history = autoencoder.fit(X_train, X_train,\n",
    "                epochs=10,\n",
    "                batch_size=256,\n",
    "                shuffle=True,\n",
    "                validation_data=(X_test, X_test))\n"
   ]
  },
  {
   "cell_type": "code",
   "execution_count": 10,
   "metadata": {},
   "outputs": [
    {
     "data": {
      "image/png": "[encoded data removed]",
      "text/plain": [
       "<Figure size 1440x288 with 6 Axes>"
      ]
     },
     "metadata": {
      "needs_background": "light"
     },
     "output_type": "display_data"
    }
   ],
   "source": [
    "decoded_imgs = autoencoder.predict(X_test)\n",
    "\n",
    "n = 3\n",
    "plt.figure(figsize=(20, 4))\n",
    "for i in range(1, n + 1):\n",
    "    # Display original\n",
    "    ax = plt.subplot(2, n, i)\n",
    "    plt.imshow(X_test[i].reshape(501, 161))\n",
    "    ax.get_xaxis().set_visible(False)\n",
    "    ax.get_yaxis().set_visible(False)\n",
    "\n",
    "    # Display reconstruction\n",
    "    ax = plt.subplot(2, n, i + n)\n",
    "    plt.imshow(decoded_imgs[i].reshape(501, 161))\n",
    "    ax.get_xaxis().set_visible(False)\n",
    "    ax.get_yaxis().set_visible(False)\n",
    "plt.show()\n"
   ]
  },
  {
   "cell_type": "code",
   "execution_count": 11,
   "metadata": {},
   "outputs": [
    {
     "data": {
      "image/png": "[encoded data removed]",
      "text/plain": [
       "<Figure size 864x288 with 2 Axes>"
      ]
     },
     "metadata": {
      "needs_background": "light"
     },
     "output_type": "display_data"
    }
   ],
   "source": [
    "plt.figure(figsize=(12,4))\n",
    "\n",
    "plt.subplot(121)\n",
    "plt.plot(history.history['loss'], \n",
    "         label = 'Loss')\n",
    "plt.title('Model Loss by epoch')\n",
    "plt.ylabel('loss')\n",
    "plt.xlabel('epoch')\n",
    "plt.legend()\n",
    "\n",
    "plt.subplot(122)\n",
    "plt.plot(history.history['val_loss'], \n",
    "         label = 'Validation Loss')\n",
    "plt.title('Model Loss by epoch')\n",
    "plt.ylabel('val loss')\n",
    "plt.xlabel('epoch')\n",
    "plt.legend()\n",
    "\n",
    "# Affichage de la figure\n",
    "plt.show()"
   ]
  },
  {
   "cell_type": "code",
   "execution_count": 17,
   "metadata": {},
   "outputs": [],
   "source": [
    "def load_data(audio_path, dt=0.5, T_max=10):\n",
    "    X_audio=[]\n",
    "    for i, a_path in enumerate(audio_path) :\n",
    "        # Load the audio file\n",
    "        data, fe = load_audio(a_path)\n",
    "            \n",
    "        # For the audio > T_max : Use just the fist T_max seconde, to have the right shape. \n",
    "        if len(data)>= T_max*fe:\n",
    "            data = data[:int(T_max*fe)]\n",
    "        \n",
    "        # For the audio < T_max : Add in the signal a zeros vector, to have the right shape.\n",
    "        else :\n",
    "            data = np.concatenate([data, np.zeros(int(T_max*fe - len(data)))])\n",
    "            \n",
    "        # Apply the logMelSpectrogram function.    \n",
    "        spectre_audio = logMelSpectrogram(data, fe, dt)\n",
    "        X_audio.append(spectre_audio)\n",
    "    return np.array(X_audio)"
   ]
  },
  {
   "cell_type": "code",
   "execution_count": 13,
   "metadata": {},
   "outputs": [],
   "source": [
    "X_train = load_data(X_train_path)\n",
    "X_test = load_data(X_test_path)"
   ]
  },
  {
   "cell_type": "code",
   "execution_count": 14,
   "metadata": {},
   "outputs": [
    {
     "data": {
      "text/plain": [
       "(2940, 21, 4001)"
      ]
     },
     "execution_count": 14,
     "metadata": {},
     "output_type": "execute_result"
    }
   ],
   "source": [
    "X_train.shape"
   ]
  },
  {
   "cell_type": "code",
   "execution_count": 15,
   "metadata": {},
   "outputs": [
    {
     "data": {
      "text/plain": [
       "(2940, 16, 4000)"
      ]
     },
     "execution_count": 15,
     "metadata": {},
     "output_type": "execute_result"
    }
   ],
   "source": [
    "X_train = X_train[:, :16, :4000]\n",
    "X_train.shape"
   ]
  },
  {
   "cell_type": "code",
   "execution_count": 17,
   "metadata": {},
   "outputs": [
    {
     "data": {
      "text/plain": [
       "(735, 16, 4000)"
      ]
     },
     "execution_count": 17,
     "metadata": {},
     "output_type": "execute_result"
    }
   ],
   "source": [
    "X_test = X_test[:, :16, :4000]\n",
    "X_test.shape"
   ]
  },
  {
   "cell_type": "code",
   "execution_count": 18,
   "metadata": {},
   "outputs": [
    {
     "name": "stdout",
     "output_type": "stream",
     "text": [
      "Model: \"functional_3\"\n",
      "_________________________________________________________________\n",
      "Layer (type)                 Output Shape              Param #   \n",
      "=================================================================\n",
      "input_2 (InputLayer)         [(None, 16, 4000, 1)]     0         \n",
      "_________________________________________________________________\n",
      "conv2d (Conv2D)              (None, 16, 4000, 16)      160       \n",
      "_________________________________________________________________\n",
      "max_pooling2d (MaxPooling2D) (None, 8, 2000, 16)       0         \n",
      "_________________________________________________________________\n",
      "conv2d_1 (Conv2D)            (None, 8, 2000, 8)        1160      \n",
      "_________________________________________________________________\n",
      "max_pooling2d_1 (MaxPooling2 (None, 4, 1000, 8)        0         \n",
      "_________________________________________________________________\n",
      "conv2d_2 (Conv2D)            (None, 4, 1000, 8)        584       \n",
      "_________________________________________________________________\n",
      "max_pooling2d_2 (MaxPooling2 (None, 2, 500, 8)         0         \n",
      "_________________________________________________________________\n",
      "conv2d_3 (Conv2D)            (None, 2, 500, 8)         584       \n",
      "_________________________________________________________________\n",
      "up_sampling2d (UpSampling2D) (None, 4, 1000, 8)        0         \n",
      "_________________________________________________________________\n",
      "conv2d_4 (Conv2D)            (None, 4, 1000, 8)        584       \n",
      "_________________________________________________________________\n",
      "up_sampling2d_1 (UpSampling2 (None, 8, 2000, 8)        0         \n",
      "_________________________________________________________________\n",
      "conv2d_5 (Conv2D)            (None, 8, 2000, 16)       1168      \n",
      "_________________________________________________________________\n",
      "up_sampling2d_2 (UpSampling2 (None, 16, 4000, 16)      0         \n",
      "_________________________________________________________________\n",
      "conv2d_6 (Conv2D)            (None, 16, 4000, 1)       145       \n",
      "=================================================================\n",
      "Total params: 4,385\n",
      "Trainable params: 4,385\n",
      "Non-trainable params: 0\n",
      "_________________________________________________________________\n"
     ]
    }
   ],
   "source": [
    "import keras\n",
    "from keras import layers\n",
    "\n",
    "X_train = X_train.reshape((-1, 16, 4000, 1))\n",
    "X_test = X_test.reshape((-1, 16, 4000, 1))\n",
    "\n",
    "input_img = keras.Input(shape=(16, 4000, 1))\n",
    "\n",
    "x = layers.Conv2D(16, (3, 3), activation='relu', padding='same')(input_img)\n",
    "x = layers.MaxPooling2D((2, 2), padding='same')(x)\n",
    "x = layers.Conv2D(8, (3, 3), activation='relu', padding='same')(x)\n",
    "x = layers.MaxPooling2D((2, 2), padding='same')(x)\n",
    "x = layers.Conv2D(8, (3, 3), activation='relu', padding='same')(x)\n",
    "encoded = layers.MaxPooling2D((2, 2), padding='same')(x)\n",
    "\n",
    "# at this point the representation is (4, 4, 8) i.e. 128-dimensional\n",
    "\n",
    "x = layers.Conv2D(8, (3, 3), activation='relu', padding='same')(encoded)\n",
    "x = layers.UpSampling2D((2, 2))(x)\n",
    "x = layers.Conv2D(8, (3, 3), activation='relu', padding='same')(x)\n",
    "x = layers.UpSampling2D((2, 2))(x)\n",
    "x = layers.Conv2D(16, (3, 3), activation='relu',padding='same')(x)\n",
    "x = layers.UpSampling2D((2, 2))(x)\n",
    "decoded = layers.Conv2D(1, (3, 3), padding='same')(x)\n",
    "\n",
    "\n",
    "autoencoder3D = keras.Model(input_img, decoded)\n",
    "autoencoder3D.compile(optimizer='adam', loss='mse')\n",
    "\n",
    "autoencoder3D.summary()"
   ]
  },
  {
   "cell_type": "code",
   "execution_count": 19,
   "metadata": {},
   "outputs": [
    {
     "name": "stdout",
     "output_type": "stream",
     "text": [
      "Epoch 1/10\n",
      "24/24 [==============================] - 304s 13s/step - loss: 17.5258 - val_loss: 13.3709\n",
      "Epoch 2/10\n",
      "24/24 [==============================] - 299s 12s/step - loss: 12.4786 - val_loss: 12.0594\n",
      "Epoch 3/10\n",
      "24/24 [==============================] - 292s 12s/step - loss: 12.0009 - val_loss: 11.9752\n",
      "Epoch 4/10\n",
      "24/24 [==============================] - 291s 12s/step - loss: 11.9511 - val_loss: 11.9412\n",
      "Epoch 5/10\n",
      "24/24 [==============================] - 283s 12s/step - loss: 11.9229 - val_loss: 11.9197\n",
      "Epoch 6/10\n",
      "24/24 [==============================] - 350s 15s/step - loss: 11.9040 - val_loss: 11.9029\n",
      "Epoch 7/10\n",
      "24/24 [==============================] - 370s 15s/step - loss: 11.8872 - val_loss: 11.8862\n",
      "Epoch 8/10\n",
      "24/24 [==============================] - 290s 12s/step - loss: 11.8707 - val_loss: 11.8697\n",
      "Epoch 9/10\n",
      "24/24 [==============================] - 232s 10s/step - loss: 11.8536 - val_loss: 11.8522\n",
      "Epoch 10/10\n",
      "24/24 [==============================] - 222s 9s/step - loss: 11.8363 - val_loss: 11.8364\n"
     ]
    }
   ],
   "source": [
    "history3D = autoencoder3D.fit(X_train, X_train,\n",
    "                              epochs=10,\n",
    "                              batch_size=126,\n",
    "                              shuffle=True,\n",
    "                              validation_data=(X_test, X_test))"
   ]
  },
  {
   "cell_type": "code",
   "execution_count": 20,
   "metadata": {},
   "outputs": [
    {
     "data": {
      "image/png": "[encoded data removed]",
      "text/plain": [
       "<Figure size 864x288 with 2 Axes>"
      ]
     },
     "metadata": {
      "needs_background": "light"
     },
     "output_type": "display_data"
    }
   ],
   "source": [
    "plt.figure(figsize=(12,4))\n",
    "\n",
    "plt.subplot(121)\n",
    "plt.plot(history3D.history['loss'], \n",
    "         label = 'Loss')\n",
    "plt.title('Model Loss by epoch')\n",
    "plt.ylabel('loss')\n",
    "plt.xlabel('epoch')\n",
    "plt.legend()\n",
    "\n",
    "plt.subplot(122)\n",
    "plt.plot(history3D.history['val_loss'], \n",
    "         label = 'Validation Loss')\n",
    "plt.title('Model Loss by epoch')\n",
    "plt.ylabel('val loss')\n",
    "plt.xlabel('epoch')\n",
    "plt.legend()\n",
    "\n",
    "# Affichage de la figure\n",
    "plt.show()"
   ]
  },
  {
   "cell_type": "markdown",
   "metadata": {},
   "source": [
    "# ENTRAINEMENT SUR LE TEST ET DETECTION ANOMALY"
   ]
  },
  {
   "cell_type": "code",
   "execution_count": 8,
   "metadata": {},
   "outputs": [],
   "source": [
    "autoencoder3D = keras.models.load_model(\"AE_3D.joblib\")"
   ]
  },
  {
   "cell_type": "code",
   "execution_count": 25,
   "metadata": {},
   "outputs": [
    {
     "data": {
      "text/html": [
       "<div>\n",
       "<style scoped>\n",
       "    .dataframe tbody tr th:only-of-type {\n",
       "        vertical-align: middle;\n",
       "    }\n",
       "\n",
       "    .dataframe tbody tr th {\n",
       "        vertical-align: top;\n",
       "    }\n",
       "\n",
       "    .dataframe thead th {\n",
       "        text-align: right;\n",
       "    }\n",
       "</style>\n",
       "<table border=\"1\" class=\"dataframe\">\n",
       "  <thead>\n",
       "    <tr style=\"text-align: right;\">\n",
       "      <th></th>\n",
       "      <th>Unnamed: 0</th>\n",
       "      <th>URL</th>\n",
       "      <th>fichier</th>\n",
       "      <th>train_test</th>\n",
       "      <th>Machine</th>\n",
       "      <th>Machine_ID</th>\n",
       "      <th>son_type</th>\n",
       "      <th>duree_son</th>\n",
       "    </tr>\n",
       "  </thead>\n",
       "  <tbody>\n",
       "    <tr>\n",
       "      <th>0</th>\n",
       "      <td>3</td>\n",
       "      <td>archive/ToyCar/test/normal_id_02_00000055.wav</td>\n",
       "      <td>normal_id_02_00000055.wav</td>\n",
       "      <td>test</td>\n",
       "      <td>ToyCar</td>\n",
       "      <td>2</td>\n",
       "      <td>normal</td>\n",
       "      <td>11.0</td>\n",
       "    </tr>\n",
       "    <tr>\n",
       "      <th>1</th>\n",
       "      <td>4</td>\n",
       "      <td>archive/ToyCar/test/normal_id_02_00000064.wav</td>\n",
       "      <td>normal_id_02_00000064.wav</td>\n",
       "      <td>test</td>\n",
       "      <td>ToyCar</td>\n",
       "      <td>2</td>\n",
       "      <td>normal</td>\n",
       "      <td>11.0</td>\n",
       "    </tr>\n",
       "    <tr>\n",
       "      <th>2</th>\n",
       "      <td>5</td>\n",
       "      <td>archive/ToyCar/test/normal_id_02_00000031.wav</td>\n",
       "      <td>normal_id_02_00000031.wav</td>\n",
       "      <td>test</td>\n",
       "      <td>ToyCar</td>\n",
       "      <td>2</td>\n",
       "      <td>normal</td>\n",
       "      <td>11.0</td>\n",
       "    </tr>\n",
       "    <tr>\n",
       "      <th>3</th>\n",
       "      <td>6</td>\n",
       "      <td>archive/ToyCar/test/normal_id_02_00000027.wav</td>\n",
       "      <td>normal_id_02_00000027.wav</td>\n",
       "      <td>test</td>\n",
       "      <td>ToyCar</td>\n",
       "      <td>2</td>\n",
       "      <td>normal</td>\n",
       "      <td>11.0</td>\n",
       "    </tr>\n",
       "    <tr>\n",
       "      <th>4</th>\n",
       "      <td>7</td>\n",
       "      <td>archive/ToyCar/test/normal_id_02_00000024.wav</td>\n",
       "      <td>normal_id_02_00000024.wav</td>\n",
       "      <td>test</td>\n",
       "      <td>ToyCar</td>\n",
       "      <td>2</td>\n",
       "      <td>normal</td>\n",
       "      <td>11.0</td>\n",
       "    </tr>\n",
       "  </tbody>\n",
       "</table>\n",
       "</div>"
      ],
      "text/plain": [
       "   Unnamed: 0                                            URL  \\\n",
       "0           3  archive/ToyCar/test/normal_id_02_00000055.wav   \n",
       "1           4  archive/ToyCar/test/normal_id_02_00000064.wav   \n",
       "2           5  archive/ToyCar/test/normal_id_02_00000031.wav   \n",
       "3           6  archive/ToyCar/test/normal_id_02_00000027.wav   \n",
       "4           7  archive/ToyCar/test/normal_id_02_00000024.wav   \n",
       "\n",
       "                     fichier train_test Machine  Machine_ID son_type  \\\n",
       "0  normal_id_02_00000055.wav       test  ToyCar           2   normal   \n",
       "1  normal_id_02_00000064.wav       test  ToyCar           2   normal   \n",
       "2  normal_id_02_00000031.wav       test  ToyCar           2   normal   \n",
       "3  normal_id_02_00000027.wav       test  ToyCar           2   normal   \n",
       "4  normal_id_02_00000024.wav       test  ToyCar           2   normal   \n",
       "\n",
       "   duree_son  \n",
       "0       11.0  \n",
       "1       11.0  \n",
       "2       11.0  \n",
       "3       11.0  \n",
       "4       11.0  "
      ]
     },
     "execution_count": 25,
     "metadata": {},
     "output_type": "execute_result"
    }
   ],
   "source": [
    "df.head()"
   ]
  },
  {
   "cell_type": "code",
   "execution_count": 18,
   "metadata": {},
   "outputs": [
    {
     "name": "stderr",
     "output_type": "stream",
     "text": [
      "<ipython-input-18-f742df6221bd>:1: UserWarning: Boolean Series key will be reindexed to match DataFrame index.\n",
      "  df_fan_test = df_fan[df['train_test'] == 'test'] # sélection du dataset train\n",
      "<ipython-input-18-f742df6221bd>:2: SettingWithCopyWarning: \n",
      "A value is trying to be set on a copy of a slice from a DataFrame.\n",
      "Try using .loc[row_indexer,col_indexer] = value instead\n",
      "\n",
      "See the caveats in the documentation: https://pandas.pydata.org/pandas-docs/stable/user_guide/indexing.html#returning-a-view-versus-a-copy\n",
      "  df_fan_test['son_type'] = df_fan_test['son_type'].replace(to_replace = [\"normal\", \"anomaly\"], value = [-1,1])\n"
     ]
    }
   ],
   "source": [
    "df_fan_test = df_fan[df['train_test'] == 'test'] # sélection du dataset train\n",
    "df_fan_test['son_type'] = df_fan_test['son_type'].replace(to_replace = [\"normal\", \"anomaly\"], value = [-1,1])\n",
    "\n",
    "\n",
    "X = df_fan_test['URL']\n",
    "y = df_fan_test['son_type']\n",
    "\n",
    "\n",
    "X_train_path, X_test_path, Y_train, Y_test = train_test_split(X, y, test_size=0.2, random_state=1234, stratify=y)\n",
    "Y_train = Y_train.values\n",
    "Y_test = Y_test.values"
   ]
  },
  {
   "cell_type": "code",
   "execution_count": 19,
   "metadata": {},
   "outputs": [
    {
     "name": "stderr",
     "output_type": "stream",
     "text": [
      "/opt/anaconda3/envs/soundAnomaly/lib/python3.8/site-packages/librosa/filters.py:238: UserWarning: Empty filters detected in mel frequency basis. Some channels will produce empty responses. Try increasing your sampling rate (and fmax) or reducing n_mels.\n",
      "  warnings.warn(\n"
     ]
    }
   ],
   "source": [
    "X_train = load_data(X_train_path)\n",
    "X_test = load_data(X_test_path)"
   ]
  },
  {
   "cell_type": "code",
   "execution_count": 20,
   "metadata": {},
   "outputs": [
    {
     "data": {
      "text/plain": [
       "(1500, 16, 4000)"
      ]
     },
     "execution_count": 20,
     "metadata": {},
     "output_type": "execute_result"
    }
   ],
   "source": [
    "X_train = X_train[:, :16, :4000]\n",
    "X_train.shape"
   ]
  },
  {
   "cell_type": "code",
   "execution_count": 21,
   "metadata": {},
   "outputs": [
    {
     "data": {
      "text/plain": [
       "(375, 16, 4000)"
      ]
     },
     "execution_count": 21,
     "metadata": {},
     "output_type": "execute_result"
    }
   ],
   "source": [
    "X_test = X_test[:, :16, :4000]\n",
    "X_test.shape"
   ]
  },
  {
   "cell_type": "code",
   "execution_count": 15,
   "metadata": {},
   "outputs": [
    {
     "ename": "ValueError",
     "evalue": "cannot reshape array of size 3864000 into shape (16,4000,1)",
     "output_type": "error",
     "traceback": [
      "\u001b[0;31m---------------------------------------------------------------------------\u001b[0m",
      "\u001b[0;31mValueError\u001b[0m                                Traceback (most recent call last)",
      "\u001b[0;32m<ipython-input-15-a9e2b3f28399>\u001b[0m in \u001b[0;36m<module>\u001b[0;34m\u001b[0m\n\u001b[0;32m----> 1\u001b[0;31m \u001b[0mX_train\u001b[0m \u001b[0;34m=\u001b[0m \u001b[0mX_train\u001b[0m\u001b[0;34m.\u001b[0m\u001b[0mreshape\u001b[0m\u001b[0;34m(\u001b[0m\u001b[0;34m(\u001b[0m\u001b[0;34m-\u001b[0m\u001b[0;36m1\u001b[0m\u001b[0;34m,\u001b[0m \u001b[0;36m16\u001b[0m\u001b[0;34m,\u001b[0m \u001b[0;36m4000\u001b[0m\u001b[0;34m,\u001b[0m \u001b[0;36m1\u001b[0m\u001b[0;34m)\u001b[0m\u001b[0;34m)\u001b[0m\u001b[0;34m\u001b[0m\u001b[0;34m\u001b[0m\u001b[0m\n\u001b[0m\u001b[1;32m      2\u001b[0m \u001b[0mX_test\u001b[0m \u001b[0;34m=\u001b[0m \u001b[0mX_test\u001b[0m\u001b[0;34m.\u001b[0m\u001b[0mreshape\u001b[0m\u001b[0;34m(\u001b[0m\u001b[0;34m(\u001b[0m\u001b[0;34m-\u001b[0m\u001b[0;36m1\u001b[0m\u001b[0;34m,\u001b[0m \u001b[0;36m16\u001b[0m\u001b[0;34m,\u001b[0m \u001b[0;36m4000\u001b[0m\u001b[0;34m,\u001b[0m \u001b[0;36m1\u001b[0m\u001b[0;34m)\u001b[0m\u001b[0;34m)\u001b[0m\u001b[0;34m\u001b[0m\u001b[0;34m\u001b[0m\u001b[0m\n\u001b[1;32m      3\u001b[0m \u001b[0;34m\u001b[0m\u001b[0m\n\u001b[1;32m      4\u001b[0m history3D_test = autoencoder3D.fit(X_train, X_train,\n\u001b[1;32m      5\u001b[0m                                    \u001b[0mepochs\u001b[0m\u001b[0;34m=\u001b[0m\u001b[0;36m100\u001b[0m\u001b[0;34m,\u001b[0m\u001b[0;34m\u001b[0m\u001b[0;34m\u001b[0m\u001b[0m\n",
      "\u001b[0;31mValueError\u001b[0m: cannot reshape array of size 3864000 into shape (16,4000,1)"
     ]
    }
   ],
   "source": [
    "X_train = X_train.reshape((-1, 16, 4000, 1))\n",
    "X_test = X_test.reshape((-1, 16, 4000, 1))\n",
    "\n",
    "history3D_test = autoencoder3D.fit(X_train, X_train,\n",
    "                                   epochs=100,\n",
    "                                   batch_size=126,\n",
    "                                   shuffle=True,\n",
    "                                   validation_data=(X_test, X_test))"
   ]
  },
  {
   "cell_type": "code",
   "execution_count": 91,
   "metadata": {},
   "outputs": [
    {
     "data": {
      "image/png": "[encoded data removed]",
      "text/plain": [
       "<Figure size 864x288 with 2 Axes>"
      ]
     },
     "metadata": {
      "needs_background": "light"
     },
     "output_type": "display_data"
    }
   ],
   "source": [
    "plt.figure(figsize=(12,4))\n",
    "\n",
    "plt.subplot(121)\n",
    "plt.plot(history3D_test.history['loss'], \n",
    "         label = 'Loss')\n",
    "plt.title('Model Loss by epoch')\n",
    "plt.ylabel('loss')\n",
    "plt.xlabel('epoch')\n",
    "plt.legend()\n",
    "\n",
    "plt.subplot(122)\n",
    "plt.plot(history3D_test.history['val_loss'], \n",
    "         label = 'Validation Loss')\n",
    "plt.title('Model Loss by epoch')\n",
    "plt.ylabel('val loss')\n",
    "plt.xlabel('epoch')\n",
    "plt.legend()\n",
    "\n",
    "# Affichage de la figure\n",
    "plt.show()"
   ]
  },
  {
   "cell_type": "code",
   "execution_count": 92,
   "metadata": {},
   "outputs": [
    {
     "data": {
      "text/plain": [
       "(375, 16, 4000, 1)"
      ]
     },
     "execution_count": 92,
     "metadata": {},
     "output_type": "execute_result"
    }
   ],
   "source": [
    "X_test.shape"
   ]
  },
  {
   "cell_type": "code",
   "execution_count": 93,
   "metadata": {},
   "outputs": [
    {
     "data": {
      "text/plain": [
       "(375, 16, 4000, 1)"
      ]
     },
     "execution_count": 93,
     "metadata": {},
     "output_type": "execute_result"
    }
   ],
   "source": [
    "Y_pred_test = autoencoder3D.predict(X_test)\n",
    "Y_pred_test.shape"
   ]
  },
  {
   "cell_type": "code",
   "execution_count": 94,
   "metadata": {},
   "outputs": [
    {
     "data": {
      "text/plain": [
       "(375, 64000)"
      ]
     },
     "execution_count": 94,
     "metadata": {},
     "output_type": "execute_result"
    }
   ],
   "source": [
    "X_test = X_test.reshape((-1, 16*4000))\n",
    "X_test.shape"
   ]
  },
  {
   "cell_type": "code",
   "execution_count": 95,
   "metadata": {},
   "outputs": [
    {
     "data": {
      "text/plain": [
       "(375, 64000)"
      ]
     },
     "execution_count": 95,
     "metadata": {},
     "output_type": "execute_result"
    }
   ],
   "source": [
    "Y_pred_test = Y_pred_test.reshape((-1, 16*4000))\n",
    "Y_pred_test.shape"
   ]
  },
  {
   "cell_type": "code",
   "execution_count": 96,
   "metadata": {},
   "outputs": [],
   "source": [
    "mse_files = []\n",
    "for i in range(len(X_test)):\n",
    "    diff = np.mean(X_test[i,:] - Y_pred_test[i,:]) # pour le fichier i la moyenne des différences de valeur de pixel pour chaque indice\n",
    "    mse_files.append(diff**2)\n",
    "# sinon pour diff on aurait surement pu X_test - Y_pred_test avec axis = pour préciser la dimension : ici 2 \n",
    "#mse_files"
   ]
  },
  {
   "cell_type": "code",
   "execution_count": 102,
   "metadata": {},
   "outputs": [],
   "source": [
    "mse_files = []\n",
    "for i in range(len(X_test)):\n",
    "    diff_carres = np.mean(X_test[i,:]**2 - Y_pred_test[i,:]**2) # pour le fichier i la moyenne des différences de valeur de pixel pour chaque indice\n",
    "    mse_files.append(diff_carres)"
   ]
  },
  {
   "cell_type": "code",
   "execution_count": 109,
   "metadata": {},
   "outputs": [],
   "source": [
    "mse_files = []\n",
    "for i in range(len(X_test)):\n",
    "    diff_carres = mean_absolute_error(X_test[i,:],Y_pred_test[i,:])\n",
    "    mse_files.append(diff_carres)"
   ]
  },
  {
   "cell_type": "code",
   "execution_count": 107,
   "metadata": {},
   "outputs": [],
   "source": [
    "from sklearn.metrics import mean_absolute_error\n",
    "score = mean_absolute_error(X_test,Y_pred_test)"
   ]
  },
  {
   "cell_type": "code",
   "execution_count": 108,
   "metadata": {},
   "outputs": [
    {
     "data": {
      "text/plain": [
       "1.2644994"
      ]
     },
     "execution_count": 108,
     "metadata": {},
     "output_type": "execute_result"
    }
   ],
   "source": [
    "score"
   ]
  },
  {
   "cell_type": "code",
   "execution_count": 97,
   "metadata": {},
   "outputs": [
    {
     "data": {
      "text/plain": [
       "375"
      ]
     },
     "execution_count": 97,
     "metadata": {},
     "output_type": "execute_result"
    }
   ],
   "source": [
    "len(mse_files)"
   ]
  },
  {
   "cell_type": "markdown",
   "metadata": {},
   "source": [
    "Comparer la mse des fichiers normaux et anormaux:"
   ]
  },
  {
   "cell_type": "code",
   "execution_count": 98,
   "metadata": {},
   "outputs": [
    {
     "data": {
      "text/plain": [
       "375"
      ]
     },
     "execution_count": 98,
     "metadata": {},
     "output_type": "execute_result"
    }
   ],
   "source": [
    "len(Y_test)\n",
    "#Y_test"
   ]
  },
  {
   "cell_type": "code",
   "execution_count": 110,
   "metadata": {},
   "outputs": [
    {
     "data": {
      "text/plain": [
       "1.2654178"
      ]
     },
     "execution_count": 110,
     "metadata": {},
     "output_type": "execute_result"
    }
   ],
   "source": [
    "anomalies = []\n",
    "for i in range(len(mse_files)):\n",
    "    if Y_test[i] == -1:\n",
    "        anomalies.append(mse_files[i])\n",
    "\n",
    "anomalies_arr = np.array(anomalies)\n",
    "anomalies_arr\n",
    "np.mean(anomalies_arr)"
   ]
  },
  {
   "cell_type": "code",
   "execution_count": 111,
   "metadata": {},
   "outputs": [
    {
     "data": {
      "text/plain": [
       "1.2642502"
      ]
     },
     "execution_count": 111,
     "metadata": {},
     "output_type": "execute_result"
    }
   ],
   "source": [
    "normaux = []\n",
    "for i in range(len(mse_files)):\n",
    "    if Y_test[i] == 1:\n",
    "        normaux.append(mse_files[i])\n",
    "\n",
    "normaux_arr = np.array(normaux)\n",
    "normaux_arr\n",
    "np.mean(normaux_arr)"
   ]
  },
  {
   "cell_type": "code",
   "execution_count": null,
   "metadata": {},
   "outputs": [],
   "source": []
  },
  {
   "cell_type": "code",
   "execution_count": 112,
   "metadata": {},
   "outputs": [
    {
     "name": "stdout",
     "output_type": "stream",
     "text": [
      "INFO:tensorflow:Assets written to: AE_3D.joblib/assets\n"
     ]
    }
   ],
   "source": [
    "autoencoder3D.save('AE_3D.joblib')"
   ]
  },
  {
   "cell_type": "code",
   "execution_count": null,
   "metadata": {},
   "outputs": [],
   "source": []
  }
 ],
 "metadata": {
  "kernelspec": {
   "display_name": "Python 3.8.8 64-bit ('SoundAnomalie': conda)",
   "name": "python388jvsc74a57bd0b1d7c52007a8c5db518367e20994380b1ae318266f9d1e8a19426477c935faf4"
  },
  "language_info": {
   "name": "python",
   "version": ""
  },
  "orig_nbformat": 3
 },
 "nbformat": 4,
 "nbformat_minor": 4
}