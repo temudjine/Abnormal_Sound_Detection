{
 "cells": [
  {
   "cell_type": "markdown",
   "metadata": {
    "id": "hl91auMjJvYV"
   },
   "source": [
    "# Importation des Bibliothèques"
   ]
  },
  {
   "cell_type": "code",
   "execution_count": 4,
   "metadata": {
    "colab": {
     "base_uri": "https://localhost:8080/"
    },
    "executionInfo": {
     "elapsed": 11499,
     "status": "ok",
     "timestamp": 1618304462654,
     "user": {
      "displayName": "aboukrat yossef",
      "photoUrl": "https://lh3.googleusercontent.com/a-/AOh14GgXCqAvqVoxLQ7RGByjPh6zls9MuOlY8RDiLVhIxg=s64",
      "userId": "03970047473374252361"
     },
     "user_tz": -120
    },
    "id": "iraqi-relaxation",
    "outputId": "6939d11d-1a17-4539-f3cd-58bcbc36da47"
   },
   "outputs": [],
   "source": [
    "%%capture\r\n",
    "%matplotlib inline\r\n",
    "import math\r\n",
    "import numpy as np\r\n",
    "from numpy.fft import fft\r\n",
    "import pandas as pd\r\n",
    "import matplotlib.pyplot as plt\r\n",
    "from matplotlib import cm\r\n",
    "import seaborn as sns\r\n",
    "from sklearn.model_selection import train_test_split\r\n",
    "from sklearn import metrics\r\n",
    "\r\n",
    "from IPython.display import clear_output\r\n",
    "from IPython.display import Audio\r\n",
    "import scipy.io.wavfile as wave\r\n",
    "from scipy.io import wavfile\r\n",
    "\r\n",
    "import random, time, os\r\n",
    "import glob as glob\r\n",
    "import os.path\r\n",
    "import keras\r\n",
    "from keras import layers\r\n",
    "from keras.models import Sequential\r\n",
    "from keras.layers import Dense, Dropout, Conv1D,Conv2D, LeakyReLU, Flatten, GlobalAveragePooling1D,GlobalAveragePooling2D\r\n",
    "from keras.optimizers import Adam\r\n",
    "from keras.utils import np_utils\r\n",
    "import librosa\r\n",
    "os.environ['LIBROSA_CACHE_DIR'] = '/tmp/librosa_cache'\r\n",
    "os.environ['LIBROSA_CACHE_LEVEL']= '20'\r\n",
    "from ipywidgets import interactive\r\n",
    "import itertools\r\n",
    "\r\n",
    "from tqdm import tqdm # code pour afficher une barre de chargement il faut installer la librairie tqdm pour qu'il marche\r\n",
    "\r\n",
    "from functions_utils import *"
   ]
  },
  {
   "cell_type": "markdown",
   "metadata": {},
   "source": [
    "# Importation du CSV"
   ]
  },
  {
   "cell_type": "code",
   "execution_count": 8,
   "metadata": {
    "colab": {
     "base_uri": "https://localhost:8080/",
     "height": 204
    },
    "executionInfo": {
     "elapsed": 1656,
     "status": "ok",
     "timestamp": 1618304467951,
     "user": {
      "displayName": "aboukrat yossef",
      "photoUrl": "https://lh3.googleusercontent.com/a-/AOh14GgXCqAvqVoxLQ7RGByjPh6zls9MuOlY8RDiLVhIxg=s64",
      "userId": "03970047473374252361"
     },
     "user_tz": -120
    },
    "id": "hBjO1tFplv6W",
    "outputId": "9a16891e-a463-491d-dbd6-3a54377611bd"
   },
   "outputs": [
    {
     "data": {
      "text/html": "<div>\n<style scoped>\n    .dataframe tbody tr th:only-of-type {\n        vertical-align: middle;\n    }\n\n    .dataframe tbody tr th {\n        vertical-align: top;\n    }\n\n    .dataframe thead th {\n        text-align: right;\n    }\n</style>\n<table border=\"1\" class=\"dataframe\">\n  <thead>\n    <tr style=\"text-align: right;\">\n      <th></th>\n      <th>URL</th>\n      <th>fichier</th>\n      <th>train_test</th>\n      <th>Machine</th>\n      <th>Machine_ID</th>\n      <th>son_type</th>\n      <th>duree_son</th>\n    </tr>\n  </thead>\n  <tbody>\n    <tr>\n      <th>0</th>\n      <td>archive/ToyCar/test/normal_id_02_00000055.wav</td>\n      <td>normal_id_02_00000055.wav</td>\n      <td>test</td>\n      <td>ToyCar</td>\n      <td>2</td>\n      <td>normal</td>\n      <td>11.0</td>\n    </tr>\n    <tr>\n      <th>1</th>\n      <td>archive/ToyCar/test/normal_id_02_00000064.wav</td>\n      <td>normal_id_02_00000064.wav</td>\n      <td>test</td>\n      <td>ToyCar</td>\n      <td>2</td>\n      <td>normal</td>\n      <td>11.0</td>\n    </tr>\n    <tr>\n      <th>2</th>\n      <td>archive/ToyCar/test/normal_id_02_00000031.wav</td>\n      <td>normal_id_02_00000031.wav</td>\n      <td>test</td>\n      <td>ToyCar</td>\n      <td>2</td>\n      <td>normal</td>\n      <td>11.0</td>\n    </tr>\n    <tr>\n      <th>3</th>\n      <td>archive/ToyCar/test/normal_id_02_00000027.wav</td>\n      <td>normal_id_02_00000027.wav</td>\n      <td>test</td>\n      <td>ToyCar</td>\n      <td>2</td>\n      <td>normal</td>\n      <td>11.0</td>\n    </tr>\n    <tr>\n      <th>4</th>\n      <td>archive/ToyCar/test/normal_id_02_00000024.wav</td>\n      <td>normal_id_02_00000024.wav</td>\n      <td>test</td>\n      <td>ToyCar</td>\n      <td>2</td>\n      <td>normal</td>\n      <td>11.0</td>\n    </tr>\n  </tbody>\n</table>\n</div>",
      "text/plain": "                                             URL                    fichier  \\\n0  archive/ToyCar/test/normal_id_02_00000055.wav  normal_id_02_00000055.wav   \n1  archive/ToyCar/test/normal_id_02_00000064.wav  normal_id_02_00000064.wav   \n2  archive/ToyCar/test/normal_id_02_00000031.wav  normal_id_02_00000031.wav   \n3  archive/ToyCar/test/normal_id_02_00000027.wav  normal_id_02_00000027.wav   \n4  archive/ToyCar/test/normal_id_02_00000024.wav  normal_id_02_00000024.wav   \n\n  train_test Machine  Machine_ID son_type  duree_son  \n0       test  ToyCar           2   normal       11.0  \n1       test  ToyCar           2   normal       11.0  \n2       test  ToyCar           2   normal       11.0  \n3       test  ToyCar           2   normal       11.0  \n4       test  ToyCar           2   normal       11.0  "
     },
     "execution_count": 8,
     "metadata": {},
     "output_type": "execute_result"
    }
   ],
   "source": [
    "df=pd.read_csv('Fichiers_output_Projet/Fichiers_son.csv')\r\n",
    "df = df.drop(columns='Unnamed: 0')\r\n",
    "df.head()"
   ]
  },
  {
   "cell_type": "markdown",
   "metadata": {
    "id": "2FUxAwCW9Sa0"
   },
   "source": [
    "# Code"
   ]
  },
  {
   "cell_type": "code",
   "execution_count": null,
   "metadata": {},
   "outputs": [],
   "source": []
  },
  {
   "cell_type": "code",
   "execution_count": null,
   "metadata": {},
   "outputs": [],
   "source": []
  }
 ],
 "metadata": {
  "kernelspec": {
   "display_name": "Python 3.8.8 64-bit ('SoundAnomalie': conda)",
   "name": "python388jvsc74a57bd0b1d7c52007a8c5db518367e20994380b1ae318266f9d1e8a19426477c935faf4"
  },
  "language_info": {
   "codemirror_mode": {
    "name": "ipython",
    "version": 3
   },
   "file_extension": ".py",
   "mimetype": "text/x-python",
   "name": "python",
   "nbconvert_exporter": "python",
   "pygments_lexer": "ipython3",
   "version": "3.8.8"
  },
  "orig_nbformat": 3
 },
 "nbformat": 4,
 "nbformat_minor": 5
}